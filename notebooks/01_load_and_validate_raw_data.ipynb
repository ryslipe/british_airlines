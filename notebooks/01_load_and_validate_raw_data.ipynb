{
 "cells": [
  {
   "cell_type": "code",
   "execution_count": 1,
   "metadata": {},
   "outputs": [
    {
     "name": "stdout",
     "output_type": "stream",
     "text": [
      "                                              review\n",
      "0  9/10\"Very good flight\"Guy Senior(United Kingdo...\n",
      "1  7/10\"relatively comfortable elderly plane\"Simo...\n",
      "2  1/10\"70 days chasing BA’s complaints departmen...\n",
      "3  1/10\"BA refused to reimburse me\"Michael Chasta...\n",
      "4  1/10\"the flight was delayed\"S Herron(Netherlan...\n"
     ]
    }
   ],
   "source": [
    "import requests\n",
    "from bs4 import BeautifulSoup\n",
    "import pandas as pd\n",
    "\n",
    "# Send a request to the website\n",
    "url = 'https://www.airlinequality.com/airline-reviews/british-airways'\n",
    "response = requests.get(url)\n",
    "\n",
    "# Parse the HTML content\n",
    "soup = BeautifulSoup(response.content, 'html.parser')\n",
    "\n",
    "# Extract the reviews using the itemprop attribute\n",
    "reviews = []\n",
    "review_elements = soup.find_all(itemprop='review')\n",
    "\n",
    "for element in review_elements:\n",
    "    review = element.get_text(strip=True)\n",
    "    reviews.append(review)\n",
    "\n",
    "# Store the reviews in a DataFrame\n",
    "df = pd.DataFrame(reviews, columns=['review'])\n",
    "print(df.head())\n"
   ]
  },
  {
   "cell_type": "code",
   "execution_count": 9,
   "metadata": {},
   "outputs": [],
   "source": [
    "import requests\n",
    "from bs4 import BeautifulSoup\n",
    "import pandas as pd\n",
    "\n",
    "# Send a request to the website\n",
    "url = 'https://www.airlinequality.com/airline-reviews/british-airways/?sortby=post_date%3ADesc&pagesize=100'\n",
    "response = requests.get(url)\n",
    "\n",
    "# Parse the HTML content\n",
    "soup = BeautifulSoup(response.content, 'html.parser')\n"
   ]
  },
  {
   "cell_type": "code",
   "execution_count": 10,
   "metadata": {},
   "outputs": [
    {
     "name": "stdout",
     "output_type": "stream",
     "text": [
      "                                               review        status\n",
      "0   Very good flight following an equally good fli...  Not Verified\n",
      "1   An hour's delay due to late arrival of the inc...  Not Verified\n",
      "2   I booked through BA because Loganair don’t hav...      Verified\n",
      "3   British airways lost bags in LHR then found th...      Verified\n",
      "4   The check in process and reward/loyalty progra...      Verified\n",
      "..                                                ...           ...\n",
      "95  British Airways new Club Suite is a marked imp...      Verified\n",
      "96  Four very pleasant, on time flights with frien...      Verified\n",
      "97  We travel extensively over 25 years and tend t...  Not Verified\n",
      "98  Flight delayed an hour due to bad weather arou...      Verified\n",
      "99  A very full flight made Premium Economy feel a...      Verified\n",
      "\n",
      "[100 rows x 2 columns]\n"
     ]
    }
   ],
   "source": [
    "reviews = []\n",
    "statuses = []\n",
    "\n",
    "# Find all review elements\n",
    "review_elements = soup.find_all('div', class_='text_content')  # Replace 'text_content' with actual class name\n",
    "\n",
    "for element in review_elements:\n",
    "    full_text = element.get_text(strip=True)\n",
    "    if \"✅Trip Verified|\" in full_text:\n",
    "        status = \"Verified\"\n",
    "        review = full_text.replace(\"✅Trip Verified|\", \"\").strip()\n",
    "    elif \"Not Verified|\" in full_text:\n",
    "        status = \"Not Verified\"\n",
    "        review = full_text.replace(\"Not Verified|\", \"\").strip()\n",
    "    else:\n",
    "        status = \"Unknown\"\n",
    "        review = full_text.strip()\n",
    "\n",
    "    reviews.append(review)\n",
    "    statuses.append(status)\n",
    "\n",
    "# Store the reviews and statuses in a DataFrame\n",
    "df = pd.DataFrame({\n",
    "    'review': reviews,\n",
    "    'status': statuses\n",
    "})\n",
    "print(df)\n"
   ]
  },
  {
   "cell_type": "code",
   "execution_count": 11,
   "metadata": {},
   "outputs": [
    {
     "data": {
      "text/plain": [
       "100"
      ]
     },
     "execution_count": 11,
     "metadata": {},
     "output_type": "execute_result"
    }
   ],
   "source": [
    "len(df)"
   ]
  },
  {
   "cell_type": "code",
   "execution_count": null,
   "metadata": {},
   "outputs": [
    {
     "name": "stdout",
     "output_type": "stream",
     "text": [
      "                                                 review        status\n",
      "0     Very good flight following an equally good fli...  Not Verified\n",
      "1     An hour's delay due to late arrival of the inc...  Not Verified\n",
      "2     I booked through BA because Loganair don’t hav...      Verified\n",
      "3     British airways lost bags in LHR then found th...      Verified\n",
      "4     The check in process and reward/loyalty progra...      Verified\n",
      "...                                                 ...           ...\n",
      "3906  Flew LHR - VIE return operated by bmi but BA a...       Unknown\n",
      "3907  LHR to HAM. Purser addresses all club passenge...       Unknown\n",
      "3908  My son who had worked for British Airways urge...       Unknown\n",
      "3909  London City-New York JFK via Shannon on A318 b...       Unknown\n",
      "3910  SIN-LHR BA12 B747-436 First Class. Old aircraf...       Unknown\n",
      "\n",
      "[3911 rows x 2 columns]\n"
     ]
    }
   ],
   "source": [
    "import requests\n",
    "from bs4 import BeautifulSoup\n",
    "import pandas as pd\n",
    "\n",
    "def scrape_all_pages(base_url, start_page, end_page):\n",
    "    all_reviews = []\n",
    "    all_statuses = []\n",
    "\n",
    "    for i in range(start_page, end_page + 1):\n",
    "        url = f'{base_url}/page/{i}/?sortby=post_date%3ADesc&pagesize=100'\n",
    "        response = requests.get(url)\n",
    "\n",
    "        # Parse the HTML content\n",
    "        soup = BeautifulSoup(response.content, 'html.parser')\n",
    "\n",
    "        # Find all review elements\n",
    "        review_elements = soup.find_all('div', class_='text_content')  \n",
    "\n",
    "        for element in review_elements:\n",
    "            full_text = element.get_text(strip=True)\n",
    "            if \"✅Trip Verified|\" in full_text:\n",
    "                status = \"Verified\"\n",
    "                review = full_text.replace(\"✅Trip Verified|\", \"\").strip()\n",
    "            elif \"Not Verified|\" in full_text:\n",
    "                status = \"Not Verified\"\n",
    "                review = full_text.replace(\"Not Verified|\", \"\").strip()\n",
    "            else:\n",
    "                status = \"Unknown\"\n",
    "                review = full_text.strip()\n",
    "\n",
    "            all_reviews.append(review)\n",
    "            all_statuses.append(status)\n",
    "\n",
    "    # Store the reviews and statuses in a DataFrame\n",
    "    df = pd.DataFrame({\n",
    "        'review': all_reviews,\n",
    "        'status': all_statuses\n",
    "    })\n",
    "    \n",
    "    return df\n",
    "\n",
    "# Define the base URL and page range\n",
    "base_url = 'https://www.airlinequality.com/airline-reviews/british-airways'\n",
    "start_page = 1\n",
    "end_page = 40  \n",
    "\n",
    "# Scrape all pages and get the DataFrame\n",
    "reviews_df = scrape_all_pages(base_url, start_page, end_page)\n",
    "print(reviews_df)\n"
   ]
  },
  {
   "cell_type": "code",
   "execution_count": 5,
   "metadata": {},
   "outputs": [],
   "source": [
    "def scrape_review_details(url):\n",
    "    response = requests.get(url)\n",
    "    soup = BeautifulSoup(response.content, 'html.parser')\n",
    "\n",
    "    reviews = []\n",
    "\n",
    "    review_elements = soup.find_all('article', itemprop='review')\n",
    "\n",
    "    for element in review_elements:\n",
    "        review_data = {}\n",
    "\n",
    "        review_data['verification_status'] = \"Verified\" if \"✅Trip Verified|\" in element.get_text() else \"Not Verified\"\n",
    "        review_body = element.find('div', class_='text_content').get_text(strip=True).replace(\"✅Trip Verified|\", \"\").replace(\"Not Verified|\", \"\").strip()\n",
    "        review_data['review_body'] = review_body\n",
    "\n",
    "        rows = element.find_all('tr')\n",
    "        for row in rows:\n",
    "            header = row.find('td', class_='review-rating-header')\n",
    "            value = row.find('td', class_='review-value')\n",
    "            if header and value:\n",
    "                review_data[header.get_text(strip=True)] = value.get_text(strip=True)\n",
    "\n",
    "        reviews.append(review_data)\n",
    "\n",
    "    df = pd.DataFrame(reviews)\n",
    "    return df\n"
   ]
  },
  {
   "cell_type": "code",
   "execution_count": 9,
   "metadata": {},
   "outputs": [
    {
     "name": "stdout",
     "output_type": "stream",
     "text": [
      "  verification_status                                        review_body  \\\n",
      "0        Not Verified  Very good flight following an equally good fli...   \n",
      "1        Not Verified  An hour's delay due to late arrival of the inc...   \n",
      "2        Not Verified  I booked through BA because Loganair don’t hav...   \n",
      "3        Not Verified  British airways lost bags in LHR then found th...   \n",
      "4        Not Verified  The check in process and reward/loyalty progra...   \n",
      "5        Not Verified  We flew in November 2023, but it took this lon...   \n",
      "6        Not Verified  I left for London from Johannesburg at 21:15 o...   \n",
      "7        Not Verified  After an excellent flight on a 777 CPT to LHR ...   \n",
      "8        Not Verified  On a recent flight from Cyprus BA621 on 23/11/...   \n",
      "9        Not Verified  Flight BA 0560 arrived in Rome on 11 December ...   \n",
      "\n",
      "  Aircraft Type Of Traveller        Seat Type  \\\n",
      "0     A320      Solo Leisure   Business Class   \n",
      "1     A319    Family Leisure    Economy Class   \n",
      "2      NaN      Solo Leisure    Economy Class   \n",
      "3      NaN    Family Leisure  Premium Economy   \n",
      "4     A320          Business    Economy Class   \n",
      "5      NaN    Family Leisure    Economy Class   \n",
      "6      NaN    Family Leisure    Economy Class   \n",
      "7     A380      Solo Leisure   Business Class   \n",
      "8      NaN    Family Leisure    Economy Class   \n",
      "9      NaN    Couple Leisure    Economy Class   \n",
      "\n",
      "                                  Route     Date Flown Recommended  \n",
      "0             London Heathrow to Zurich   January 2025         yes  \n",
      "1                      London to Lisbon   January 2025         yes  \n",
      "2             Manchester to Isle of Man  November 2024          no  \n",
      "3         Houston to cologne via London  December 2024          no  \n",
      "4                       London to Basel   January 2025          no  \n",
      "5                     London to Phoenix  November 2023          no  \n",
      "6                London to Johannesburg   January 2025          no  \n",
      "7  London to Cape Town via Johannesburg  December 2024         yes  \n",
      "8       Larnaca to Glasgow via Heathrow  November 2024          no  \n",
      "9                        London to Rome  December 2024          no  \n"
     ]
    }
   ],
   "source": [
    "import pandas as pd\n",
    "pd.set_option('display.max_columns', None)\n",
    "# Define the URL\n",
    "url = 'https://www.airlinequality.com/airline-reviews/british-airways'\n",
    "\n",
    "# Scrape the reviews\n",
    "reviews_df = scrape_review_details(url)\n",
    "print(reviews_df)"
   ]
  },
  {
   "cell_type": "code",
   "execution_count": null,
   "metadata": {},
   "outputs": [],
   "source": []
  }
 ],
 "metadata": {
  "kernelspec": {
   "display_name": ".venv",
   "language": "python",
   "name": "python3"
  },
  "language_info": {
   "codemirror_mode": {
    "name": "ipython",
    "version": 3
   },
   "file_extension": ".py",
   "mimetype": "text/x-python",
   "name": "python",
   "nbconvert_exporter": "python",
   "pygments_lexer": "ipython3",
   "version": "3.10.9"
  }
 },
 "nbformat": 4,
 "nbformat_minor": 2
}
