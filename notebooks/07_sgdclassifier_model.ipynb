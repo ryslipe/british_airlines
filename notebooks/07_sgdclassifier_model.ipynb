{
 "cells": [
  {
   "cell_type": "markdown",
   "metadata": {},
   "source": [
    "#### SGD Classifier"
   ]
  },
  {
   "cell_type": "code",
   "execution_count": 9,
   "metadata": {},
   "outputs": [],
   "source": [
    "import pandas as pd\n",
    "import numpy as np\n",
    "\n",
    "import matplotlib.pyplot as plt\n",
    "from sklearn.metrics import classification_report, ConfusionMatrixDisplay\n",
    "from sklearn.linear_model import SGDClassifier\n",
    "\n",
    "from src.paths import TRANSFORMED_DATA_DIR\n",
    "from src.split_and_tfidf import split_and_vect\n",
    "from src.stemming_and_lemming import stem_reviews"
   ]
  },
  {
   "cell_type": "code",
   "execution_count": 2,
   "metadata": {},
   "outputs": [],
   "source": [
    "df = pd.read_parquet(TRANSFORMED_DATA_DIR /'cleaned_sentiments.parquet')"
   ]
  },
  {
   "cell_type": "code",
   "execution_count": 3,
   "metadata": {},
   "outputs": [],
   "source": [
    "df_copy = df.copy()"
   ]
  },
  {
   "cell_type": "code",
   "execution_count": 4,
   "metadata": {},
   "outputs": [],
   "source": [
    "# split the data and fit a tfidf vectorizer to it\n",
    "X_train_vec, X_test_vec, y_train, y_test, tfidf_vec = split_and_vect(df_copy, 'cleaned', 'recommended')"
   ]
  },
  {
   "cell_type": "code",
   "execution_count": 5,
   "metadata": {},
   "outputs": [],
   "source": [
    "# sgd classifier\n",
    "sgd = SGDClassifier()\n",
    "\n",
    "# fit to tfidf vectorizer\n",
    "sgd.fit(X_train_vec, y_train)\n",
    "\n",
    "# make predictions\n",
    "y_pred = sgd.predict(X_test_vec)"
   ]
  },
  {
   "cell_type": "code",
   "execution_count": 6,
   "metadata": {},
   "outputs": [
    {
     "name": "stdout",
     "output_type": "stream",
     "text": [
      "              precision    recall  f1-score   support\n",
      "\n",
      "           0       0.92      0.94      0.93       503\n",
      "           1       0.89      0.85      0.87       276\n",
      "\n",
      "    accuracy                           0.91       779\n",
      "   macro avg       0.90      0.90      0.90       779\n",
      "weighted avg       0.91      0.91      0.91       779\n",
      "\n"
     ]
    }
   ],
   "source": [
    "# metrics \n",
    "print(classification_report(y_test, y_pred))"
   ]
  },
  {
   "cell_type": "code",
   "execution_count": 8,
   "metadata": {},
   "outputs": [
    {
     "data": {
      "image/png": "[encoded data removed]",
      "text/plain": [
       "<Figure size 640x480 with 2 Axes>"
      ]
     },
     "metadata": {},
     "output_type": "display_data"
    }
   ],
   "source": [
    "ConfusionMatrixDisplay.from_estimator(sgd, X_test_vec, y_test)\n",
    "plt.title('Confusion Matrix for SGD Classifier')\n",
    "plt.show()"
   ]
  },
  {
   "cell_type": "code",
   "execution_count": 11,
   "metadata": {},
   "outputs": [],
   "source": [
    "# stemming\n",
    "df_stem = df.copy()\n",
    "\n",
    "# perform stemming on the data\n",
    "df_stem['stemmed'] = stem_reviews(df_stem['cleaned'])"
   ]
  },
  {
   "cell_type": "code",
   "execution_count": 12,
   "metadata": {},
   "outputs": [
    {
     "data": {
      "text/html": [
       "<div>\n",
       "<style scoped>\n",
       "    .dataframe tbody tr th:only-of-type {\n",
       "        vertical-align: middle;\n",
       "    }\n",
       "\n",
       "    .dataframe tbody tr th {\n",
       "        vertical-align: top;\n",
       "    }\n",
       "\n",
       "    .dataframe thead th {\n",
       "        text-align: right;\n",
       "    }\n",
       "</style>\n",
       "<table border=\"1\" class=\"dataframe\">\n",
       "  <thead>\n",
       "    <tr style=\"text-align: right;\">\n",
       "      <th></th>\n",
       "      <th>recommended</th>\n",
       "      <th>cleaned</th>\n",
       "      <th>stemmed</th>\n",
       "    </tr>\n",
       "  </thead>\n",
       "  <tbody>\n",
       "    <tr>\n",
       "      <th>3887</th>\n",
       "      <td>0</td>\n",
       "      <td>Business LHR to BKK 747 400 First try back wit...</td>\n",
       "      <td>busi lhr to bkk 747 400 first tri back with ba...</td>\n",
       "    </tr>\n",
       "    <tr>\n",
       "      <th>3890</th>\n",
       "      <td>1</td>\n",
       "      <td>LHR to HAM Purser addresses all club passenger...</td>\n",
       "      <td>lhr to ham purser address all club passeng by ...</td>\n",
       "    </tr>\n",
       "    <tr>\n",
       "      <th>3891</th>\n",
       "      <td>0</td>\n",
       "      <td>My son who had worked for British Airways urge...</td>\n",
       "      <td>my son who had work for british airway urg me ...</td>\n",
       "    </tr>\n",
       "    <tr>\n",
       "      <th>3892</th>\n",
       "      <td>0</td>\n",
       "      <td>London City New York JFK via Shannon on A318 b...</td>\n",
       "      <td>london citi new york jfk via shannon on a318 b...</td>\n",
       "    </tr>\n",
       "    <tr>\n",
       "      <th>3893</th>\n",
       "      <td>0</td>\n",
       "      <td>SIN LHR BA12 B747 436 First Class Old aircraft...</td>\n",
       "      <td>sin lhr ba12 b747 436 first class old aircraft...</td>\n",
       "    </tr>\n",
       "  </tbody>\n",
       "</table>\n",
       "</div>"
      ],
      "text/plain": [
       "      recommended  ...                                            stemmed\n",
       "3887            0  ...  busi lhr to bkk 747 400 first tri back with ba...\n",
       "3890            1  ...  lhr to ham purser address all club passeng by ...\n",
       "3891            0  ...  my son who had work for british airway urg me ...\n",
       "3892            0  ...  london citi new york jfk via shannon on a318 b...\n",
       "3893            0  ...  sin lhr ba12 b747 436 first class old aircraft...\n",
       "\n",
       "[5 rows x 3 columns]"
      ]
     },
     "execution_count": 12,
     "metadata": {},
     "output_type": "execute_result"
    }
   ],
   "source": [
    "df_stem.tail()"
   ]
  },
  {
   "cell_type": "code",
   "execution_count": 13,
   "metadata": {},
   "outputs": [],
   "source": [
    "# split and vectorize\n",
    "X_train_stem, X_test_stem, y_train, y_test, tfidf_stem_vec = split_and_vect(df_stem, 'stemmed', 'recommended')\n",
    "\n",
    "# fit stemmed to sgd\n",
    "# instantiate\n",
    "sgd_stem = SGDClassifier()\n",
    "\n",
    "# fit to the data\n",
    "sgd_stem.fit(X_train_stem, y_train)\n",
    "\n",
    "# make predictions\n",
    "y_pred_stem = sgd_stem.predict(X_test_stem)\n"
   ]
  },
  {
   "cell_type": "code",
   "execution_count": 14,
   "metadata": {},
   "outputs": [
    {
     "name": "stdout",
     "output_type": "stream",
     "text": [
      "              precision    recall  f1-score   support\n",
      "\n",
      "           0       0.93      0.94      0.93       503\n",
      "           1       0.89      0.87      0.88       276\n",
      "\n",
      "    accuracy                           0.91       779\n",
      "   macro avg       0.91      0.90      0.90       779\n",
      "weighted avg       0.91      0.91      0.91       779\n",
      "\n"
     ]
    }
   ],
   "source": [
    "# metrics\n",
    "print(classification_report(y_test, y_pred_stem))"
   ]
  },
  {
   "cell_type": "code",
   "execution_count": 16,
   "metadata": {},
   "outputs": [
    {
     "data": {
      "text/plain": [
       "Text(0.5, 1.0, 'Confusion Matrix for SGD Classifier with Stemming')"
      ]
     },
     "execution_count": 16,
     "metadata": {},
     "output_type": "execute_result"
    },
    {
     "data": {
      "image/png": "[encoded data removed]",
      "text/plain": [
       "<Figure size 640x480 with 2 Axes>"
      ]
     },
     "metadata": {},
     "output_type": "display_data"
    }
   ],
   "source": [
    "# confusion matrix\n",
    "ConfusionMatrixDisplay.from_estimator(sgd_stem, X_test_stem, y_test)\n",
    "plt.title('Confusion Matrix for SGD Classifier with Stemming')"
   ]
  },
  {
   "cell_type": "markdown",
   "metadata": {},
   "source": [
    "#### Lemmatizing"
   ]
  },
  {
   "cell_type": "code",
   "execution_count": 17,
   "metadata": {},
   "outputs": [
    {
     "data": {
      "text/html": [
       "<div>\n",
       "<style scoped>\n",
       "    .dataframe tbody tr th:only-of-type {\n",
       "        vertical-align: middle;\n",
       "    }\n",
       "\n",
       "    .dataframe tbody tr th {\n",
       "        vertical-align: top;\n",
       "    }\n",
       "\n",
       "    .dataframe thead th {\n",
       "        text-align: right;\n",
       "    }\n",
       "</style>\n",
       "<table border=\"1\" class=\"dataframe\">\n",
       "  <thead>\n",
       "    <tr style=\"text-align: right;\">\n",
       "      <th></th>\n",
       "      <th>recommended</th>\n",
       "      <th>cleaned</th>\n",
       "      <th>lemmatized</th>\n",
       "    </tr>\n",
       "  </thead>\n",
       "  <tbody>\n",
       "    <tr>\n",
       "      <th>0</th>\n",
       "      <td>1</td>\n",
       "      <td>Very good flight following an equally good fli...</td>\n",
       "      <td>Very good flight follow an equally good flight...</td>\n",
       "    </tr>\n",
       "    <tr>\n",
       "      <th>1</th>\n",
       "      <td>1</td>\n",
       "      <td>An hours delay due to late arrival of the inco...</td>\n",
       "      <td>An hour delay due to late arrival of the incom...</td>\n",
       "    </tr>\n",
       "    <tr>\n",
       "      <th>2</th>\n",
       "      <td>0</td>\n",
       "      <td>I booked through BA because Loganair dont have...</td>\n",
       "      <td>I book through BA because Loganair dont have r...</td>\n",
       "    </tr>\n",
       "    <tr>\n",
       "      <th>3</th>\n",
       "      <td>0</td>\n",
       "      <td>British airways lost bags in LHR then found th...</td>\n",
       "      <td>British airway lose bag in LHR then find them ...</td>\n",
       "    </tr>\n",
       "    <tr>\n",
       "      <th>4</th>\n",
       "      <td>0</td>\n",
       "      <td>The check in process and reward loyalty progra...</td>\n",
       "      <td>The check in process and reward loyalty progra...</td>\n",
       "    </tr>\n",
       "  </tbody>\n",
       "</table>\n",
       "</div>"
      ],
      "text/plain": [
       "   recommended  ...                                         lemmatized\n",
       "0            1  ...  Very good flight follow an equally good flight...\n",
       "1            1  ...  An hour delay due to late arrival of the incom...\n",
       "2            0  ...  I book through BA because Loganair dont have r...\n",
       "3            0  ...  British airway lose bag in LHR then find them ...\n",
       "4            0  ...  The check in process and reward loyalty progra...\n",
       "\n",
       "[5 rows x 3 columns]"
      ]
     },
     "execution_count": 17,
     "metadata": {},
     "output_type": "execute_result"
    }
   ],
   "source": [
    "# make a copy of the data\n",
    "df_lemm = df.copy()\n",
    "\n",
    "# lemmatize\n",
    "from src.stemming_and_lemming import get_wordnet_pos, lemmatize_reviews\n",
    "\n",
    "df_lemm['lemmatized'] = lemmatize_reviews(df['cleaned'])\n",
    "df_lemm.head()"
   ]
  },
  {
   "cell_type": "code",
   "execution_count": 18,
   "metadata": {},
   "outputs": [
    {
     "name": "stdout",
     "output_type": "stream",
     "text": [
      "              precision    recall  f1-score   support\n",
      "\n",
      "           0       0.86      0.90      0.88       503\n",
      "           1       0.79      0.73      0.76       276\n",
      "\n",
      "    accuracy                           0.84       779\n",
      "   macro avg       0.83      0.81      0.82       779\n",
      "weighted avg       0.84      0.84      0.84       779\n",
      "\n"
     ]
    }
   ],
   "source": [
    "# split lemmatized data\n",
    "X_train_lem, X_test_lem, y_train, y_test, tfidf_lem = split_and_vect(df_lemm, 'lemmatized', 'recommended')\n",
    "\n",
    "# sgd classifier\n",
    "sgd_lem = SGDClassifier()\n",
    "\n",
    "# fit\n",
    "sgd_lem.fit(X_train_lem, y_train)\n",
    "\n",
    "# predict\n",
    "y_pred_lem = sgd_lem.predict(X_test_lem)\n",
    "\n",
    "# classification report\n",
    "print(classification_report(y_test, y_pred_lem))"
   ]
  },
  {
   "cell_type": "code",
   "execution_count": 19,
   "metadata": {},
   "outputs": [
    {
     "data": {
      "text/plain": [
       "<sklearn.metrics._plot.confusion_matrix.ConfusionMatrixDisplay at 0x23802b41630>"
      ]
     },
     "execution_count": 19,
     "metadata": {},
     "output_type": "execute_result"
    },
    {
     "data": {
      "image/png": "[encoded data removed]",
      "text/plain": [
       "<Figure size 640x480 with 2 Axes>"
      ]
     },
     "metadata": {},
     "output_type": "display_data"
    }
   ],
   "source": [
    "ConfusionMatrixDisplay.from_estimator(sgd_lem, X_test_lem, y_test)"
   ]
  },
  {
   "cell_type": "code",
   "execution_count": null,
   "metadata": {},
   "outputs": [],
   "source": []
  }
 ],
 "metadata": {
  "kernelspec": {
   "display_name": ".venv",
   "language": "python",
   "name": "python3"
  },
  "language_info": {
   "codemirror_mode": {
    "name": "ipython",
    "version": 3
   },
   "file_extension": ".py",
   "mimetype": "text/x-python",
   "name": "python",
   "nbconvert_exporter": "python",
   "pygments_lexer": "ipython3",
   "version": "3.10.9"
  }
 },
 "nbformat": 4,
 "nbformat_minor": 2
}
