{
 "cells": [
  {
   "cell_type": "markdown",
   "metadata": {},
   "source": [
    "### Sentiment Analysis Using Logistic Regression"
   ]
  },
  {
   "cell_type": "code",
   "execution_count": 13,
   "metadata": {},
   "outputs": [
    {
     "data": {
      "text/html": [
       "<div>\n",
       "<style scoped>\n",
       "    .dataframe tbody tr th:only-of-type {\n",
       "        vertical-align: middle;\n",
       "    }\n",
       "\n",
       "    .dataframe tbody tr th {\n",
       "        vertical-align: top;\n",
       "    }\n",
       "\n",
       "    .dataframe thead th {\n",
       "        text-align: right;\n",
       "    }\n",
       "</style>\n",
       "<table border=\"1\" class=\"dataframe\">\n",
       "  <thead>\n",
       "    <tr style=\"text-align: right;\">\n",
       "      <th></th>\n",
       "      <th>verification_status</th>\n",
       "      <th>review_body</th>\n",
       "      <th>published_date</th>\n",
       "      <th>rating</th>\n",
       "      <th>aircraft</th>\n",
       "      <th>type_of_traveler</th>\n",
       "      <th>seat_type</th>\n",
       "      <th>recommended</th>\n",
       "      <th>year</th>\n",
       "      <th>month</th>\n",
       "      <th>day</th>\n",
       "      <th>cumulative_avg_rating</th>\n",
       "    </tr>\n",
       "  </thead>\n",
       "  <tbody>\n",
       "    <tr>\n",
       "      <th>0</th>\n",
       "      <td>Not Verified</td>\n",
       "      <td>Very good flight following an equally good fli...</td>\n",
       "      <td>2025-01-20</td>\n",
       "      <td>9.0</td>\n",
       "      <td>A320</td>\n",
       "      <td>Solo Leisure</td>\n",
       "      <td>Business Class</td>\n",
       "      <td>yes</td>\n",
       "      <td>2025</td>\n",
       "      <td>1</td>\n",
       "      <td>20</td>\n",
       "      <td>4.664271</td>\n",
       "    </tr>\n",
       "    <tr>\n",
       "      <th>1</th>\n",
       "      <td>Not Verified</td>\n",
       "      <td>An hour's delay due to late arrival of the inc...</td>\n",
       "      <td>2025-01-19</td>\n",
       "      <td>7.0</td>\n",
       "      <td>A319</td>\n",
       "      <td>Family Leisure</td>\n",
       "      <td>Economy Class</td>\n",
       "      <td>yes</td>\n",
       "      <td>2025</td>\n",
       "      <td>1</td>\n",
       "      <td>19</td>\n",
       "      <td>4.663158</td>\n",
       "    </tr>\n",
       "    <tr>\n",
       "      <th>2</th>\n",
       "      <td>Trip Verified</td>\n",
       "      <td>I booked through BA because Loganair don’t hav...</td>\n",
       "      <td>2025-01-15</td>\n",
       "      <td>1.0</td>\n",
       "      <td>None</td>\n",
       "      <td>Solo Leisure</td>\n",
       "      <td>Economy Class</td>\n",
       "      <td>no</td>\n",
       "      <td>2025</td>\n",
       "      <td>1</td>\n",
       "      <td>15</td>\n",
       "      <td>4.662558</td>\n",
       "    </tr>\n",
       "    <tr>\n",
       "      <th>3</th>\n",
       "      <td>Trip Verified</td>\n",
       "      <td>British airways lost bags in LHR then found th...</td>\n",
       "      <td>2025-01-09</td>\n",
       "      <td>1.0</td>\n",
       "      <td>None</td>\n",
       "      <td>Family Leisure</td>\n",
       "      <td>Premium Economy</td>\n",
       "      <td>no</td>\n",
       "      <td>2025</td>\n",
       "      <td>1</td>\n",
       "      <td>9</td>\n",
       "      <td>4.663499</td>\n",
       "    </tr>\n",
       "    <tr>\n",
       "      <th>4</th>\n",
       "      <td>Trip Verified</td>\n",
       "      <td>The check in process and reward/loyalty progra...</td>\n",
       "      <td>2025-01-05</td>\n",
       "      <td>1.0</td>\n",
       "      <td>A320</td>\n",
       "      <td>Business</td>\n",
       "      <td>Economy Class</td>\n",
       "      <td>no</td>\n",
       "      <td>2025</td>\n",
       "      <td>1</td>\n",
       "      <td>5</td>\n",
       "      <td>4.664440</td>\n",
       "    </tr>\n",
       "  </tbody>\n",
       "</table>\n",
       "</div>"
      ],
      "text/plain": [
       "  verification_status                                        review_body  \\\n",
       "0        Not Verified  Very good flight following an equally good fli...   \n",
       "1        Not Verified  An hour's delay due to late arrival of the inc...   \n",
       "2       Trip Verified  I booked through BA because Loganair don’t hav...   \n",
       "3       Trip Verified  British airways lost bags in LHR then found th...   \n",
       "4       Trip Verified  The check in process and reward/loyalty progra...   \n",
       "\n",
       "  published_date  rating aircraft type_of_traveler        seat_type  \\\n",
       "0     2025-01-20     9.0     A320     Solo Leisure   Business Class   \n",
       "1     2025-01-19     7.0     A319   Family Leisure    Economy Class   \n",
       "2     2025-01-15     1.0     None     Solo Leisure    Economy Class   \n",
       "3     2025-01-09     1.0     None   Family Leisure  Premium Economy   \n",
       "4     2025-01-05     1.0     A320         Business    Economy Class   \n",
       "\n",
       "  recommended  year  month  day  cumulative_avg_rating  \n",
       "0         yes  2025      1   20               4.664271  \n",
       "1         yes  2025      1   19               4.663158  \n",
       "2          no  2025      1   15               4.662558  \n",
       "3          no  2025      1    9               4.663499  \n",
       "4          no  2025      1    5               4.664440  "
      ]
     },
     "execution_count": 13,
     "metadata": {},
     "output_type": "execute_result"
    }
   ],
   "source": [
    "# load in the clean data\n",
    "import pandas as pd\n",
    "import numpy as np  \n",
    "\n",
    "df = pd.read_parquet('../data/clean/reviews_clean.parquet')\n",
    "df.head()"
   ]
  },
  {
   "cell_type": "code",
   "execution_count": 14,
   "metadata": {},
   "outputs": [
    {
     "data": {
      "text/html": [
       "<div>\n",
       "<style scoped>\n",
       "    .dataframe tbody tr th:only-of-type {\n",
       "        vertical-align: middle;\n",
       "    }\n",
       "\n",
       "    .dataframe tbody tr th {\n",
       "        vertical-align: top;\n",
       "    }\n",
       "\n",
       "    .dataframe thead th {\n",
       "        text-align: right;\n",
       "    }\n",
       "</style>\n",
       "<table border=\"1\" class=\"dataframe\">\n",
       "  <thead>\n",
       "    <tr style=\"text-align: right;\">\n",
       "      <th></th>\n",
       "      <th>review_body</th>\n",
       "      <th>recommended</th>\n",
       "    </tr>\n",
       "  </thead>\n",
       "  <tbody>\n",
       "    <tr>\n",
       "      <th>0</th>\n",
       "      <td>Very good flight following an equally good fli...</td>\n",
       "      <td>yes</td>\n",
       "    </tr>\n",
       "    <tr>\n",
       "      <th>1</th>\n",
       "      <td>An hour's delay due to late arrival of the inc...</td>\n",
       "      <td>yes</td>\n",
       "    </tr>\n",
       "    <tr>\n",
       "      <th>2</th>\n",
       "      <td>I booked through BA because Loganair don’t hav...</td>\n",
       "      <td>no</td>\n",
       "    </tr>\n",
       "    <tr>\n",
       "      <th>3</th>\n",
       "      <td>British airways lost bags in LHR then found th...</td>\n",
       "      <td>no</td>\n",
       "    </tr>\n",
       "    <tr>\n",
       "      <th>4</th>\n",
       "      <td>The check in process and reward/loyalty progra...</td>\n",
       "      <td>no</td>\n",
       "    </tr>\n",
       "  </tbody>\n",
       "</table>\n",
       "</div>"
      ],
      "text/plain": [
       "                                         review_body recommended\n",
       "0  Very good flight following an equally good fli...         yes\n",
       "1  An hour's delay due to late arrival of the inc...         yes\n",
       "2  I booked through BA because Loganair don’t hav...          no\n",
       "3  British airways lost bags in LHR then found th...          no\n",
       "4  The check in process and reward/loyalty progra...          no"
      ]
     },
     "execution_count": 14,
     "metadata": {},
     "output_type": "execute_result"
    }
   ],
   "source": [
    "# columns we need\n",
    "df = df[['review_body', 'recommended']]\n",
    "df.head()"
   ]
  },
  {
   "cell_type": "code",
   "execution_count": 15,
   "metadata": {},
   "outputs": [
    {
     "name": "stderr",
     "output_type": "stream",
     "text": [
      "C:\\Users\\ryans\\AppData\\Local\\Temp\\ipykernel_53740\\223845183.py:2: FutureWarning: Downcasting behavior in `replace` is deprecated and will be removed in a future version. To retain the old behavior, explicitly call `result.infer_objects(copy=False)`. To opt-in to the future behavior, set `pd.set_option('future.no_silent_downcasting', True)`\n",
      "  df.replace({'recommended': {'yes': 1, 'no': 0}}, inplace=True)\n"
     ]
    }
   ],
   "source": [
    "# change recommended to 0 and 1\n",
    "df.replace({'recommended': {'yes': 1, 'no': 0}}, inplace=True)\n"
   ]
  },
  {
   "cell_type": "code",
   "execution_count": 16,
   "metadata": {},
   "outputs": [
    {
     "data": {
      "text/html": [
       "<div>\n",
       "<style scoped>\n",
       "    .dataframe tbody tr th:only-of-type {\n",
       "        vertical-align: middle;\n",
       "    }\n",
       "\n",
       "    .dataframe tbody tr th {\n",
       "        vertical-align: top;\n",
       "    }\n",
       "\n",
       "    .dataframe thead th {\n",
       "        text-align: right;\n",
       "    }\n",
       "</style>\n",
       "<table border=\"1\" class=\"dataframe\">\n",
       "  <thead>\n",
       "    <tr style=\"text-align: right;\">\n",
       "      <th></th>\n",
       "      <th>review_body</th>\n",
       "      <th>recommended</th>\n",
       "    </tr>\n",
       "  </thead>\n",
       "  <tbody>\n",
       "    <tr>\n",
       "      <th>0</th>\n",
       "      <td>Very good flight following an equally good fli...</td>\n",
       "      <td>1</td>\n",
       "    </tr>\n",
       "    <tr>\n",
       "      <th>1</th>\n",
       "      <td>An hour's delay due to late arrival of the inc...</td>\n",
       "      <td>1</td>\n",
       "    </tr>\n",
       "    <tr>\n",
       "      <th>2</th>\n",
       "      <td>I booked through BA because Loganair don’t hav...</td>\n",
       "      <td>0</td>\n",
       "    </tr>\n",
       "    <tr>\n",
       "      <th>3</th>\n",
       "      <td>British airways lost bags in LHR then found th...</td>\n",
       "      <td>0</td>\n",
       "    </tr>\n",
       "    <tr>\n",
       "      <th>4</th>\n",
       "      <td>The check in process and reward/loyalty progra...</td>\n",
       "      <td>0</td>\n",
       "    </tr>\n",
       "  </tbody>\n",
       "</table>\n",
       "</div>"
      ],
      "text/plain": [
       "                                         review_body  recommended\n",
       "0  Very good flight following an equally good fli...            1\n",
       "1  An hour's delay due to late arrival of the inc...            1\n",
       "2  I booked through BA because Loganair don’t hav...            0\n",
       "3  British airways lost bags in LHR then found th...            0\n",
       "4  The check in process and reward/loyalty progra...            0"
      ]
     },
     "execution_count": 16,
     "metadata": {},
     "output_type": "execute_result"
    }
   ],
   "source": [
    "df.head()"
   ]
  },
  {
   "cell_type": "code",
   "execution_count": 18,
   "metadata": {},
   "outputs": [
    {
     "data": {
      "text/plain": [
       "recommended\n",
       "0    0.627053\n",
       "1    0.372947\n",
       "Name: proportion, dtype: float64"
      ]
     },
     "execution_count": 18,
     "metadata": {},
     "output_type": "execute_result"
    }
   ],
   "source": [
    "# distribution of recommended\n",
    "df['recommended'].value_counts(normalize=True)"
   ]
  },
  {
   "cell_type": "code",
   "execution_count": 19,
   "metadata": {},
   "outputs": [
    {
     "name": "stderr",
     "output_type": "stream",
     "text": [
      "[nltk_data] Downloading package punkt_tab to\n",
      "[nltk_data]     C:\\Users\\ryans\\AppData\\Roaming\\nltk_data...\n",
      "[nltk_data]   Package punkt_tab is already up-to-date!\n"
     ]
    },
    {
     "data": {
      "text/plain": [
       "True"
      ]
     },
     "execution_count": 19,
     "metadata": {},
     "output_type": "execute_result"
    }
   ],
   "source": [
    "# libraries needed for our sentiment analysis\n",
    "import nltk\n",
    "from nltk import word_tokenize\n",
    "\n",
    "nltk.download('punkt_tab')"
   ]
  },
  {
   "cell_type": "markdown",
   "metadata": {},
   "source": [
    "#### Use CountVectorizer"
   ]
  },
  {
   "cell_type": "markdown",
   "metadata": {},
   "source": [
    "We will be using **CountVectorizer** with the default parameters since the reviews we looked at were not very messy. The default pattern for the CountVectorizer is r'(?u)\\b\\w\\w+\\b' which matches any alphabetical/numerical characters more than length=1 and underscores. This also ignores punctuation and symbols so it would work fine in our code. "
   ]
  },
  {
   "cell_type": "code",
   "execution_count": 21,
   "metadata": {},
   "outputs": [],
   "source": [
    "# count vectorizer\n",
    "from sklearn.feature_extraction.text import CountVectorizer\n",
    "from sklearn.model_selection import train_test_split\n",
    "\n",
    "# split the data\n",
    "X = df['review_body']\n",
    "y = df['recommended']\n",
    "\n",
    "# train test split\n",
    "X_train, X_test, y_train, y_test = train_test_split(X, y, test_size=0.2, random_state=42)\n",
    "\n",
    "# initialize count vectorizer\n",
    "count_vectorizer = CountVectorizer()\n",
    "\n",
    "# fit transform the training data\n",
    "X_train_vec = count_vectorizer.fit_transform(X_train)\n",
    "\n",
    "# transform the test data\n",
    "X_test_vec = count_vectorizer.transform(X_test)"
   ]
  },
  {
   "cell_type": "markdown",
   "metadata": {},
   "source": [
    "#### Logistic Regression Model"
   ]
  },
  {
   "cell_type": "code",
   "execution_count": 23,
   "metadata": {},
   "outputs": [],
   "source": [
    "# logistic regression\n",
    "from sklearn.linear_model import LogisticRegression\n",
    "\n",
    "# initialize the model\n",
    "log_reg = LogisticRegression(max_iter=1000)\n",
    "\n",
    "# fit the model\n",
    "log_reg.fit(X_train_vec, y_train)\n",
    "\n",
    "# predict\n",
    "y_pred = log_reg.predict(X_test_vec)\n",
    "\n"
   ]
  },
  {
   "cell_type": "code",
   "execution_count": 28,
   "metadata": {},
   "outputs": [
    {
     "name": "stdout",
     "output_type": "stream",
     "text": [
      "              precision    recall  f1-score   support\n",
      "\n",
      "           0       0.89      0.92      0.90       496\n",
      "           1       0.86      0.79      0.82       284\n",
      "\n",
      "    accuracy                           0.88       780\n",
      "   macro avg       0.87      0.86      0.86       780\n",
      "weighted avg       0.87      0.88      0.87       780\n",
      "\n"
     ]
    }
   ],
   "source": [
    "# metrics\n",
    "from sklearn.metrics import classification_report\n",
    "\n",
    "# classification report\n",
    "print(classification_report(y_test, y_pred))\n"
   ]
  },
  {
   "cell_type": "code",
   "execution_count": 25,
   "metadata": {},
   "outputs": [
    {
     "data": {
      "text/plain": [
       "<sklearn.metrics._plot.confusion_matrix.ConfusionMatrixDisplay at 0x23c66fd5e70>"
      ]
     },
     "execution_count": 25,
     "metadata": {},
     "output_type": "execute_result"
    },
    {
     "data": {
      "image/png": "[encoded data removed]",
      "text/plain": [
       "<Figure size 640x480 with 2 Axes>"
      ]
     },
     "metadata": {},
     "output_type": "display_data"
    }
   ],
   "source": [
    "# confusion matrix display\n",
    "from sklearn.metrics import ConfusionMatrixDisplay\n",
    "\n",
    "# display\n",
    "ConfusionMatrixDisplay.from_estimator(log_reg, X_test_vec, y_test)\n"
   ]
  },
  {
   "cell_type": "markdown",
   "metadata": {},
   "source": [
    "#### TF-IDF"
   ]
  },
  {
   "cell_type": "markdown",
   "metadata": {},
   "source": [
    "Let's use a TF-IDF approach to put weights on our terms."
   ]
  },
  {
   "cell_type": "code",
   "execution_count": 26,
   "metadata": {},
   "outputs": [],
   "source": [
    "# import the TfidfTransformer from sklearn.feature_extraction.text\n",
    "from sklearn.feature_extraction.text import TfidfTransformer\n",
    "\n",
    "# initialize the TfidfTransformer\n",
    "tfidf = TfidfTransformer()\n",
    "\n",
    "# fit transform the training data\n",
    "X_train_tfidf = tfidf.fit_transform(X_train_vec)\n",
    "\n",
    "# transform the test data\n",
    "X_test_tfidf = tfidf.transform(X_test_vec)\n",
    "\n",
    "# initialize the model\n",
    "log_reg_tfidf = LogisticRegression(max_iter=1000)\n",
    "\n",
    "# fit the model\n",
    "log_reg_tfidf.fit(X_train_tfidf, y_train)\n",
    "\n",
    "# predict\n",
    "y_pred_tfidf = log_reg_tfidf.predict(X_test_tfidf)"
   ]
  },
  {
   "cell_type": "markdown",
   "metadata": {},
   "source": [
    "This model does a better job than the first model at predicting negative sentiments but does a worse job at predicting positive sentiments. "
   ]
  },
  {
   "cell_type": "code",
   "execution_count": 27,
   "metadata": {},
   "outputs": [
    {
     "data": {
      "text/plain": [
       "<sklearn.metrics._plot.confusion_matrix.ConfusionMatrixDisplay at 0x23c67bed450>"
      ]
     },
     "execution_count": 27,
     "metadata": {},
     "output_type": "execute_result"
    },
    {
     "data": {
      "image/png": "[encoded data removed]",
      "text/plain": [
       "<Figure size 640x480 with 2 Axes>"
      ]
     },
     "metadata": {},
     "output_type": "display_data"
    }
   ],
   "source": [
    "# new confusion matrix display\n",
    "ConfusionMatrixDisplay.from_estimator(log_reg_tfidf, X_test_tfidf, y_test)"
   ]
  },
  {
   "cell_type": "code",
   "execution_count": 29,
   "metadata": {},
   "outputs": [
    {
     "name": "stdout",
     "output_type": "stream",
     "text": [
      "              precision    recall  f1-score   support\n",
      "\n",
      "           0       0.86      0.96      0.91       496\n",
      "           1       0.91      0.74      0.81       284\n",
      "\n",
      "    accuracy                           0.88       780\n",
      "   macro avg       0.89      0.85      0.86       780\n",
      "weighted avg       0.88      0.88      0.87       780\n",
      "\n"
     ]
    }
   ],
   "source": [
    "# classification report\n",
    "print(classification_report(y_test, y_pred_tfidf))"
   ]
  },
  {
   "cell_type": "code",
   "execution_count": null,
   "metadata": {},
   "outputs": [],
   "source": []
  }
 ],
 "metadata": {
  "kernelspec": {
   "display_name": ".venv",
   "language": "python",
   "name": "python3"
  },
  "language_info": {
   "codemirror_mode": {
    "name": "ipython",
    "version": 3
   },
   "file_extension": ".py",
   "mimetype": "text/x-python",
   "name": "python",
   "nbconvert_exporter": "python",
   "pygments_lexer": "ipython3",
   "version": "3.10.9"
  }
 },
 "nbformat": 4,
 "nbformat_minor": 2
}
